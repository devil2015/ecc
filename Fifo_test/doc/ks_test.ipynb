{
 "metadata": {
  "name": "",
  "signature": "sha256:b560d64f37822c0cdb52a37e63d58ae13da0a2b4c613e62befd9769e6aecf943"
 },
 "nbformat": 3,
 "nbformat_minor": 0,
 "worksheets": [
  {
   "cells": [
    {
     "cell_type": "code",
     "collapsed": false,
     "input": [
      "!mkdir -p ../testbench/ks"
     ],
     "language": "python",
     "metadata": {},
     "outputs": [],
     "prompt_number": 1
    },
    {
     "cell_type": "code",
     "collapsed": false,
     "input": [
      "%%writefile ../testbench/ks/test_ks.py\n",
      "import binascii\n",
      "from datetime import datetime\n",
      "\n",
      "import cocotb\n",
      "from cocotb.clock import Clock\n",
      "from cocotb.triggers import Timer, RisingEdge, ReadOnly\n",
      "from cocotb.result import TestFailure, ReturnValue\n",
      "from cocotb.binary import BinaryValue\n",
      "import numpy as np\n",
      "np.set_printoptions(formatter={'int':lambda x:hex(int(x))})\n",
      "\n",
      "\n",
      "\n",
      "np.set_printoptions(formatter={'int':hex})\n",
      "\n",
      "\n",
      "class Scalar_mul(object):\n",
      "\n",
      "    def __init__(self, dut):\n",
      "        self.dut=dut\n",
      "\n",
      "    def str2nparray(self, A):\n",
      "        A = '0'*(8 - len(A)%8) + A\n",
      "        A = binascii.unhexlify(A)\n",
      "        A = np.fromstring(A[::-1], dtype='uint32') \n",
      "        return A\n",
      "    \n",
      "    def nparray2str2(self, A):\n",
      "        c = ''\n",
      "        d = A.view('uint8')\n",
      "        for i in d:\n",
      "            c+=binascii.hexlify(i)\n",
      "        return c \n",
      "    \n",
      "    \n",
      "    def remove_1(self, A):\n",
      "        while A[-1] == 0:\n",
      "            if len(A) == 1:\n",
      "                break\n",
      "            A = A[:-1]\n",
      "        return A\n",
      "    \n",
      "    def remove_0(self, A):\n",
      "        while A[0] == 0:\n",
      "            if len(A) == 1:\n",
      "                break\n",
      "            A = A[1:]\n",
      "        return A\n",
      "    \n",
      "    def nparray2str(self, A):\n",
      "        c = ''\n",
      "        d = A.view('uint8')\n",
      "        for i in d[::-1]:\n",
      "            c+=binascii.hexlify(i)\n",
      "        return c \n",
      "    \n",
      "   \n",
      "    @cocotb.coroutine\n",
      "    def Pop(self,dut, A, B):\n",
      "\n",
      "        Ad = BinaryValue()\n",
      "        Ad.assign(A)\n",
      "        Bd = BinaryValue()\n",
      "        Bd.assign(B)\n",
      "        \n",
      "        dut.a_adbus.value = Bd\n",
      "        dut.a_data_in.value = Ad\n",
      "        dut.a_w.value=1\n",
      "        yield RisingEdge(self.dut.clk)\n",
      "        dut.a_w.value=0\n",
      "        yield ReadOnly()\n",
      "        #raise ReturnValue(dut.d.value)\n",
      "\n",
      "\n",
      "\n",
      "\n",
      "\n",
      "   \n",
      "            \n",
      "            \n",
      "\n",
      "@cocotb.test()\n",
      "def test_ks(dut):\n",
      "     A = np.ndarray(shape=(4,32),buffer= np.fromstring(np.random.bytes(128), dtype=np.uint8), dtype=np.uint8)\n",
      "     B = np.ndarray(shape=(4,32),buffer= np.fromstring(np.random.bytes(128), dtype=np.uint8), dtype=np.uint8)\n",
      "    #print A, B\n",
      "    cocotb.fork(Clock(dut.clk, 10).start())\n",
      "    for i,j in zip(A,B):\n",
      "        C = yield POP(dut, i.tostring()[::-1], j.tostring()[::-1])\n",
      "        C = np.fromstring(C.buff[::-1], dtype=np.uint8)\n",
      "        \n",
      "    "
     ],
     "language": "python",
     "metadata": {},
     "outputs": [
      {
       "output_type": "stream",
       "stream": "stdout",
       "text": [
        "Overwriting ../testbench/ks/test_ks.py\n"
       ]
      }
     ],
     "prompt_number": 4
    },
    {
     "cell_type": "code",
     "collapsed": false,
     "input": [
      "%%writefile ../testbench/ks/Makefile\n",
      "TOPLEVEL = state_machine_scalar_mul\n",
      "\n",
      "PWD = $(shell pwd)\n",
      "COCOTB = ~/devel/cocotb\n",
      "SRC = $(PWD)/../../hdl/multipliers\n",
      "\n",
      "VERILOG_SOURCES = $(SRC)/state_machine_scalar_mul.v $(SRC)/Ram_interface_scalar_mul.v $(SRC)/Ram_transfer_scalar_mul.v $(SRC)/state_machine_3.v $(SRC)/scalar_multiplication_module.v $(SRC)/Ram_module_scalar_mul.v $(SRC)/state_machine_inverse.v $(SRC)/Ram_transfer.v $(SRC)/Outer_Ram_interface.v $(SRC)/point_addition_module.v $(SRC)/point_double_module.v $(SRC)/Outer_Ram_Module.v $(SRC)/inverse_itoha_tsuji_module.v $(SRC)/ideal_module.v $(SRC)/dma_sample_code.v $(SRC)/Xor_new.v $(SRC)/redution_256.v $(SRC)/Square_571.v $(SRC)/multiplication_recursive_module.v $(SRC)/Ram_data_swaping_module.v $(SRC)/Ram_Interface_Module.v $(SRC)/lower_bit_implementation.v $(SRC)/Masking_Module.v $(SRC)/LOOK_UP_table_module.v $(SRC)/Xor_192.v $(SRC)/LUT.v $(SRC)/Xor_16_bit.v $(SRC)/Ram_module.v $(SRC)/Xor_module.v $(SRC)/Xor_256_module.v $(SRC)/mul_64_module.v $(SRC)/sqr_slice_testing.v \n",
      "MODULE=test_ks #cocotb,test_discovery,test_external,test_regression\n",
      "\n",
      "SIM_ARGS=-vcd\n",
      "\n",
      "include $(COCOTB)/makefiles/Makefile.inc\n",
      "include $(COCOTB)/makefiles/Makefile.sim"
     ],
     "language": "python",
     "metadata": {},
     "outputs": [
      {
       "output_type": "stream",
       "stream": "stdout",
       "text": [
        "Overwriting ../testbench/ks/Makefile\n"
       ]
      }
     ],
     "prompt_number": 5
    },
    {
     "cell_type": "code",
     "collapsed": false,
     "input": [
      "%%bash \n",
      "pushd ../testbench/ks; make > result.log; popd"
     ],
     "language": "python",
     "metadata": {},
     "outputs": [
      {
       "output_type": "stream",
       "stream": "stdout",
       "text": [
        "~/devel/ecc/scalar_mul/testbench/ks ~/devel/ecc/scalar_mul/doc\n",
        "~/devel/ecc/scalar_mul/doc\n"
       ]
      }
     ],
     "prompt_number": 6
    },
    {
     "cell_type": "code",
     "collapsed": false,
     "input": [
      "hex(1573679400199489867190875151497454984304791231103)"
     ],
     "language": "python",
     "metadata": {},
     "outputs": [
      {
       "metadata": {},
       "output_type": "pyout",
       "prompt_number": 10,
       "text": [
        "'0x113a63990598a3828c407c0f4d2438d990df99a7fL'"
       ]
      }
     ],
     "prompt_number": 10
    },
    {
     "cell_type": "code",
     "collapsed": false,
     "input": [
      "A = np.ndarray(shape=(4, 16),buffer= np.fromstring(np.random.bytes(64), dtype=np.uint8), dtype=np.uint8)\n",
      "B = np.ndarray(shape=(4, 16),buffer= np.fromstring(np.random.bytes(64), dtype=np.uint8), dtype=np.uint8)"
     ],
     "language": "python",
     "metadata": {},
     "outputs": [],
     "prompt_number": 125
    },
    {
     "cell_type": "code",
     "collapsed": false,
     "input": [
      "import numpy as np\n",
      "import binascii\n",
      "Polynomial='710a020901' \n",
      "X='9d73616f35f4ab1407d73562c10f'\n",
      "Y='a52830277958ee84d1315ed31886'\n",
      "a='3088250ca6e7c7fe649ce85820f7'\n",
      "Zero='0'\n",
      "Private_key='23'\n",
      "def str2nparray( A):\n",
      "    A = '0'*(8 - len(A)%8) + A\n",
      "    A = binascii.unhexlify(A)\n",
      "    A = np.fromstring(A[::-1], dtype='uint32') \n",
      "    return A\n",
      "\n",
      "Polynomial=str2nparray(Polynomial)\n",
      "X=str2nparray(X)\n",
      "Y=str2nparray(Y)\n",
      "a=str2nparray(a)\n",
      "Zero=str2nparray(Zero)\n",
      "Private_key=str2nparray(Private_key)\n",
      "A = np.array([X,Y,a,Polynomial,Zero,Zero,Private_key,X,Y])\n",
      "print A"
     ],
     "language": "python",
     "metadata": {},
     "outputs": [
      {
       "output_type": "stream",
       "stream": "stdout",
       "text": [
        "[array([ 895664399, 2870216663, 1634678260,      40307], dtype=uint32)\n",
        " array([1590892678, 4001681713,  807893336,      42280], dtype=uint32)\n",
        " array([3898089719, 3355337884,  621586151,      12424], dtype=uint32)\n",
        " array([167905537,       113], dtype=uint32) array([0], dtype=uint32)\n",
        " array([0], dtype=uint32) array([35], dtype=uint32)\n",
        " array([ 895664399, 2870216663, 1634678260,      40307], dtype=uint32)\n",
        " array([1590892678, 4001681713,  807893336,      42280], dtype=uint32)]\n"
       ]
      }
     ],
     "prompt_number": 104
    },
    {
     "cell_type": "code",
     "collapsed": false,
     "input": [
      "len('20000000000000000000000000000000000000004000000000000000001')"
     ],
     "language": "python",
     "metadata": {},
     "outputs": [
      {
       "metadata": {},
       "output_type": "pyout",
       "prompt_number": 1,
       "text": [
        "59"
       ]
      }
     ],
     "prompt_number": 1
    },
    {
     "cell_type": "code",
     "collapsed": false,
     "input": [],
     "language": "python",
     "metadata": {},
     "outputs": [
      {
       "ename": "ImportError",
       "evalue": "No module named cocotb",
       "output_type": "pyerr",
       "traceback": [
        "\u001b[1;31m---------------------------------------------------------------------------\u001b[0m\n\u001b[1;31mImportError\u001b[0m                               Traceback (most recent call last)",
        "\u001b[1;32m<ipython-input-27-82352190d595>\u001b[0m in \u001b[0;36m<module>\u001b[1;34m()\u001b[0m\n\u001b[1;32m----> 1\u001b[1;33m \u001b[1;32mimport\u001b[0m \u001b[0mcocotb\u001b[0m\u001b[1;33m\u001b[0m\u001b[0m\n\u001b[0m\u001b[0;32m      2\u001b[0m \u001b[1;32mfrom\u001b[0m \u001b[0mcocotb\u001b[0m\u001b[1;33m.\u001b[0m\u001b[0mclock\u001b[0m \u001b[1;32mimport\u001b[0m \u001b[0mClock\u001b[0m\u001b[1;33m\u001b[0m\u001b[0m\n\u001b[0;32m      3\u001b[0m \u001b[1;32mfrom\u001b[0m \u001b[0mcocotb\u001b[0m\u001b[1;33m.\u001b[0m\u001b[0mtriggers\u001b[0m \u001b[1;32mimport\u001b[0m \u001b[0mTimer\u001b[0m\u001b[1;33m,\u001b[0m \u001b[0mRisingEdge\u001b[0m\u001b[1;33m,\u001b[0m \u001b[0mReadOnly\u001b[0m\u001b[1;33m\u001b[0m\u001b[0m\n\u001b[0;32m      4\u001b[0m \u001b[1;32mfrom\u001b[0m \u001b[0mcocotb\u001b[0m\u001b[1;33m.\u001b[0m\u001b[0mresult\u001b[0m \u001b[1;32mimport\u001b[0m \u001b[0mTestFailure\u001b[0m\u001b[1;33m,\u001b[0m \u001b[0mReturnValue\u001b[0m\u001b[1;33m\u001b[0m\u001b[0m\n\u001b[0;32m      5\u001b[0m \u001b[1;32mfrom\u001b[0m \u001b[0mcocotb\u001b[0m\u001b[1;33m.\u001b[0m\u001b[0mbinary\u001b[0m \u001b[1;32mimport\u001b[0m \u001b[0mBinaryValue\u001b[0m\u001b[1;33m\u001b[0m\u001b[0m\n",
        "\u001b[1;31mImportError\u001b[0m: No module named cocotb"
       ]
      }
     ],
     "prompt_number": 27
    },
    {
     "cell_type": "code",
     "collapsed": false,
     "input": [
      "import binascii\n",
      "import numpy as np\n",
      "Cd=0b11111\n",
      "\n",
      "Cd = np.fromstring(Cd.buff[::-1], dtype=np.uint32)"
     ],
     "language": "python",
     "metadata": {},
     "outputs": [
      {
       "ename": "AttributeError",
       "evalue": "'int' object has no attribute 'buff'",
       "output_type": "pyerr",
       "traceback": [
        "\u001b[1;31m---------------------------------------------------------------------------\u001b[0m\n\u001b[1;31mAttributeError\u001b[0m                            Traceback (most recent call last)",
        "\u001b[1;32m<ipython-input-20-5209e5763f07>\u001b[0m in \u001b[0;36m<module>\u001b[1;34m()\u001b[0m\n\u001b[0;32m      3\u001b[0m \u001b[0mCd\u001b[0m\u001b[1;33m=\u001b[0m\u001b[1;36m0b11111\u001b[0m\u001b[1;33m\u001b[0m\u001b[0m\n\u001b[0;32m      4\u001b[0m \u001b[1;33m\u001b[0m\u001b[0m\n\u001b[1;32m----> 5\u001b[1;33m \u001b[0mCd\u001b[0m \u001b[1;33m=\u001b[0m \u001b[0mnp\u001b[0m\u001b[1;33m.\u001b[0m\u001b[0mfromstring\u001b[0m\u001b[1;33m(\u001b[0m\u001b[0mCd\u001b[0m\u001b[1;33m.\u001b[0m\u001b[0mbuff\u001b[0m\u001b[1;33m[\u001b[0m\u001b[1;33m:\u001b[0m\u001b[1;33m:\u001b[0m\u001b[1;33m-\u001b[0m\u001b[1;36m1\u001b[0m\u001b[1;33m]\u001b[0m\u001b[1;33m,\u001b[0m \u001b[0mdtype\u001b[0m\u001b[1;33m=\u001b[0m\u001b[0mnp\u001b[0m\u001b[1;33m.\u001b[0m\u001b[0muint32\u001b[0m\u001b[1;33m)\u001b[0m\u001b[1;33m\u001b[0m\u001b[0m\n\u001b[0m",
        "\u001b[1;31mAttributeError\u001b[0m: 'int' object has no attribute 'buff'"
       ]
      }
     ],
     "prompt_number": 20
    },
    {
     "cell_type": "code",
     "collapsed": false,
     "input": [
      "C=chr(11)+chr(12)"
     ],
     "language": "python",
     "metadata": {},
     "outputs": [
      {
       "ename": "TypeError",
       "evalue": "hex() argument can't be converted to hex",
       "output_type": "pyerr",
       "traceback": [
        "\u001b[1;31m---------------------------------------------------------------------------\u001b[0m\n\u001b[1;31mTypeError\u001b[0m                                 Traceback (most recent call last)",
        "\u001b[1;32m<ipython-input-13-3ff637877481>\u001b[0m in \u001b[0;36m<module>\u001b[1;34m()\u001b[0m\n\u001b[0;32m      1\u001b[0m \u001b[0mC\u001b[0m\u001b[1;33m=\u001b[0m\u001b[0mchr\u001b[0m\u001b[1;33m(\u001b[0m\u001b[1;36m11\u001b[0m\u001b[1;33m)\u001b[0m\u001b[1;33m+\u001b[0m\u001b[0mchr\u001b[0m\u001b[1;33m(\u001b[0m\u001b[1;36m12\u001b[0m\u001b[1;33m)\u001b[0m\u001b[1;33m\u001b[0m\u001b[0m\n\u001b[1;32m----> 2\u001b[1;33m \u001b[1;32mprint\u001b[0m \u001b[0mhex\u001b[0m\u001b[1;33m(\u001b[0m\u001b[0mC\u001b[0m\u001b[1;33m)\u001b[0m\u001b[1;33m\u001b[0m\u001b[0m\n\u001b[0m",
        "\u001b[1;31mTypeError\u001b[0m: hex() argument can't be converted to hex"
       ]
      }
     ],
     "prompt_number": 13
    },
    {
     "cell_type": "code",
     "collapsed": false,
     "input": [
      "hex(392914465539434577188601619118453738077711414020)"
     ],
     "language": "python",
     "metadata": {},
     "outputs": [
      {
       "metadata": {},
       "output_type": "pyout",
       "prompt_number": 6,
       "text": [
        "'0x44d2e4dc7eb25f9268a4777bf9bc4c58bd06b304L'"
       ]
      }
     ],
     "prompt_number": 6
    },
    {
     "cell_type": "code",
     "collapsed": false,
     "input": [],
     "language": "python",
     "metadata": {},
     "outputs": []
    }
   ],
   "metadata": {}
  }
 ]
}