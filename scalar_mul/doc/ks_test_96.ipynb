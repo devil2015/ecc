{
 "metadata": {
  "name": "",
  "signature": "sha256:4ce2b2830bbbb053ee90fb54d982331c94daf0b34b20b12bc6b9132de02ba423"
 },
 "nbformat": 3,
 "nbformat_minor": 0,
 "worksheets": [
  {
   "cells": [
    {
     "cell_type": "code",
     "collapsed": false,
     "input": [
      "!mkdir -p ../testbench/ks"
     ],
     "language": "python",
     "metadata": {},
     "outputs": [],
     "prompt_number": 5
    },
    {
     "cell_type": "code",
     "collapsed": false,
     "input": [
      "%%writefile ../testbench/ks/test_ks.py\n",
      "\n",
      "import random\n",
      "\n",
      "import cocotb\n",
      "from cocotb.clock import Clock\n",
      "from cocotb.triggers import Timer, RisingEdge, ReadOnly\n",
      "from cocotb.result import TestFailure, ReturnValue\n",
      "from cocotb.binary import BinaryValue\n",
      "import numpy as np\n",
      "np.set_printoptions(formatter={'int':lambda x:hex(int(x))})\n",
      "\n",
      "def multiply(A, B):\n",
      "    tmp = A\n",
      "    idx = 0\n",
      "    mul = 0\n",
      "    while 1:\n",
      "        #print bin(tmp)\n",
      "        if tmp == 0:\n",
      "            break\n",
      "        if tmp % 2:\n",
      "            #print '#', idx\n",
      "            mul = mul ^ (B << idx)\n",
      "        tmp = tmp >>  1\n",
      "        idx = idx + 1\n",
      "    return mul\n",
      "\n",
      "def multiply2(A, B):\n",
      "    A0 = A & 0x1\n",
      "    A1 = (A & 0x2) >> 1\n",
      "    B0 = B & 0x1\n",
      "    B1 = (B & 0x2) >> 1\n",
      "    C0 = A0 & B0\n",
      "    C2 = A1 & B1\n",
      "    C1 = C0 ^ C2 ^ ((A0 ^ A1) & (B0 ^ B1))\n",
      "    return C0 ^ (C1 << 1) ^ (C2 << 2)\n",
      "\n",
      "\n",
      "def multiply4(A, B):\n",
      "    A0 = A & 0x3\n",
      "    A1 = (A >> 2) & 0x3\n",
      "    B0 = B & 0x3\n",
      "    B1 = (B >> 2) & 0x3\n",
      "    C0 = multiply2(A0,B0)\n",
      "    C2 = multiply2(A1,B1)\n",
      "    C1 = C0 ^ C2 ^ multiply2((A0 ^ A1),(B0 ^ B1))\n",
      "    return C0 ^ (C1 << 2) ^ (C2 << 4)\n",
      "\n",
      "def multiply4l(A, B):\n",
      "    table = [0x00,0x00,0x00,0x00,0x00,0x00,0x00,0x00,0x00,0x00,0x00,0x00,0x00,0x00,0x00,0x00,\n",
      "             0x00,0x01,0x02,0x03,0x04,0x05,0x06,0x07,0x08,0x09,0x0a,0x0b,0x0c,0x0d,0x0e,0x0f,\n",
      "             0x00,0x02,0x04,0x06,0x08,0x0a,0x0c,0x0e,0x10,0x12,0x14,0x16,0x18,0x1a,0x1c,0x1e,\n",
      "             0x00,0x03,0x06,0x05,0x0c,0x0f,0x0a,0x09,0x18,0x1b,0x1e,0x1d,0x14,0x17,0x12,0x11,\n",
      "             0x00,0x04,0x08,0x0c,0x10,0x14,0x18,0x1c,0x20,0x24,0x28,0x2c,0x30,0x34,0x38,0x3c,\n",
      "             0x00,0x05,0x0a,0x0f,0x14,0x11,0x1e,0x1b,0x28,0x2d,0x22,0x27,0x3c,0x39,0x36,0x33,\n",
      "             0x00,0x06,0x0c,0x0a,0x18,0x1e,0x14,0x12,0x30,0x36,0x3c,0x3a,0x28,0x2e,0x24,0x22,\n",
      "             0x00,0x07,0x0e,0x09,0x1c,0x1b,0x12,0x15,0x38,0x3f,0x36,0x31,0x24,0x23,0x2a,0x2d,\n",
      "             0x00,0x08,0x10,0x18,0x20,0x28,0x30,0x38,0x40,0x48,0x50,0x58,0x60,0x68,0x70,0x78,\n",
      "             0x00,0x09,0x12,0x1b,0x24,0x2d,0x36,0x3f,0x48,0x41,0x5a,0x53,0x6c,0x65,0x7e,0x77,\n",
      "             0x00,0x0a,0x14,0x1e,0x28,0x22,0x3c,0x36,0x50,0x5a,0x44,0x4e,0x78,0x72,0x6c,0x66,\n",
      "             0x00,0x0b,0x16,0x1d,0x2c,0x27,0x3a,0x31,0x58,0x53,0x4e,0x45,0x74,0x7f,0x62,0x69,\n",
      "             0x00,0x0c,0x18,0x14,0x30,0x3c,0x28,0x24,0x60,0x6c,0x78,0x74,0x50,0x5c,0x48,0x44,\n",
      "             0x00,0x0d,0x1a,0x17,0x34,0x39,0x2e,0x23,0x68,0x65,0x72,0x7f,0x5c,0x51,0x46,0x4b,\n",
      "             0x00,0x0e,0x1c,0x12,0x38,0x36,0x24,0x2a,0x70,0x7e,0x6c,0x62,0x48,0x46,0x54,0x5a,\n",
      "             0x00,0x0f,0x1e,0x11,0x3c,0x33,0x22,0x2d,0x78,0x77,0x66,0x69,0x44,0x4b,0x5a,0x55]\n",
      "    #print (A & 0xf) ^ ((B & 0xf) << 4)\n",
      "    return table [(A & 0xf) ^ ((B & 0xf) << 4)]\n",
      "\n",
      "def multiply8(A, B):\n",
      "    A0 = A & 0xF\n",
      "    A1 = (A >> 4) & 0xF\n",
      "    B0 = B & 0xF\n",
      "    B1 = (B >> 4) & 0xF\n",
      "    C0 = multiply4l(A0,B0)\n",
      "    C2 = multiply4l(A1,B1)\n",
      "    C1 = C0 ^ C2 ^ multiply4l((A0 ^ A1),(B0 ^ B1))\n",
      "    return np.array([(C0 ^ (C1 << 4)) & 0xFF,  ((C1 >> 4) ^ C2) & 0xFF])\n",
      "\n",
      "def multiply16(A, B):\n",
      "    C0 = multiply8(A[0],B[0])\n",
      "    C2 = multiply8(A[1],B[1])\n",
      "    C1 = C0 ^ C2 ^ multiply8((A[0] ^ A[1]),(B[0] ^ B[1]))\n",
      "    return np.array([C0[0], C0[1] ^ C1[0], C1[1] ^ C2[0], C2[1]])\n",
      "\n",
      "def multiply32(A, B):\n",
      "    C0 = multiply16(A[0:2],B[0:2])\n",
      "    C2 = multiply16(A[2:4],B[2:4])\n",
      "    C1 = C0 ^ C2 ^ multiply16((A[0:2] ^ A[2:4]),(B[0:2] ^ B[2:4]))\n",
      "    return np.array([C0[0:2], C0[2:4] ^ C1[0:2], C1[2:4] ^ C2[0:2], C2[2:4]]).flatten()\n",
      "\n",
      "def multiply64(A, B):\n",
      "    C0 = multiply32(A[0:4],B[0:4])\n",
      "    C2 = multiply32(A[4:8],B[4:8])\n",
      "    C1 = C0 ^ C2 ^ multiply32((A[0:4] ^ A[4:8]),(B[0:4] ^ B[4:8]))\n",
      "    return np.array([C0[0:4], C0[4:8] ^ C1[0:4], C1[4:8] ^ C2[0:4], C2[4:8]]).flatten()\n",
      "\n",
      "@cocotb.coroutine\n",
      "def ks14(dut, A, B):\n",
      "    \"\"\"This coroutine performs reset to FIFO\"\"\"\n",
      "    yield RisingEdge(dut.clk)                  # Synchronise to the read clock\n",
      "    \n",
      "    Ad = BinaryValue()\n",
      "    Bd = BinaryValue()\n",
      "    Ad.assign(A)\n",
      "    Bd.assign(B)\n",
      "    #print Ad, Bd\n",
      "    dut.a.value = Ad\n",
      "    dut.b.value = Bd\n",
      "    #dut.A    = A\n",
      "    #dut.B    = B\n",
      "    yield ReadOnly()\n",
      "    raise ReturnValue(dut.d.value)\n",
      "\n",
      "@cocotb.test()\n",
      "def test_ks(dut):\n",
      "    #A = np.ndarray(shape=(16,2),buffer= np.fromstring(np.random.bytes(64), dtype=np.uint8), dtype=np.uint8)\n",
      "    #A = np.fromstring(np.random.bytes(16), dtype=np.uint8)\n",
      "    #B = np.fromstring(np.random.bytes(16), dtype=np.uint8)\n",
      "    \n",
      "    A = np.ndarray(shape=(8),buffer= np.fromstring(np.random.bytes(32), dtype=np.uint8), dtype=np.uint8)\n",
      "    B = np.ndarray(shape=(16, 2),buffer= np.fromstring(np.random.bytes(32), dtype=np.uint8), dtype=np.uint8)\n",
      "    #print A, B\n",
      "    cocotb.fork(Clock(dut.clk, 10).start())\n",
      "    for i,j in zip(A,B):\n",
      "        i[1] = i[1] & 0x0C\n",
      "        j[1] = j[1] & 0x0C\n",
      "        \n",
      "        C = yield ks14(dut, i.tostring()[::-1], j.tostring()[::-1])\n",
      "        C = np.fromstring(C.buff[::-1], dtype=np.uint8)\n",
      "        Cd = multiply64(i, j)\n",
      "        print i, j\n",
      "        print 'mul', C\n",
      "        print 'pyt', Cd\n",
      "        print '#################'\n",
      "        #dut.log.info(\"%X, %X\" % (C,Cd))        "
     ],
     "language": "python",
     "metadata": {},
     "outputs": [
      {
       "output_type": "stream",
       "stream": "stdout",
       "text": [
        "Overwriting ../testbench/ks/test_ks.py\n"
       ]
      }
     ],
     "prompt_number": 6
    },
    {
     "cell_type": "code",
     "collapsed": false,
     "input": [
      "%%writefile ../testbench/ks/Makefile\n",
      "TOPLEVEL = sync_ks_64\n",
      "\n",
      "PWD = $(shell pwd)\n",
      "COCOTB = ~/devel/cocotb\n",
      "SRC = $(PWD)/../../hdl/multiplier\n",
      "\n",
      "VERILOG_SOURCES = $(SRC)/saa_sync64.v $(SRC)/saa_ks_64.v \n",
      "MODULE=test_ks #cocotb,test_discovery,test_external,test_regression\n",
      "\n",
      "SIM_ARGS=-lxt2\n",
      "\n",
      "include $(COCOTB)/makefiles/Makefile.inc\n",
      "include $(COCOTB)/makefiles/Makefile.sim"
     ],
     "language": "python",
     "metadata": {},
     "outputs": [
      {
       "output_type": "stream",
       "stream": "stdout",
       "text": [
        "Overwriting ../testbench/ks/Makefile\n"
       ]
      }
     ],
     "prompt_number": 7
    },
    {
     "cell_type": "code",
     "collapsed": false,
     "input": [
      "%%bash \n",
      "pushd ../testbench/ks; make > result.log; popd"
     ],
     "language": "python",
     "metadata": {},
     "outputs": [
      {
       "output_type": "stream",
       "stream": "stdout",
       "text": [
        "~/devel/aes/testbench/ks ~/devel/aes/doc\n",
        "~/devel/aes/doc\n"
       ]
      }
     ],
     "prompt_number": 9
    },
    {
     "cell_type": "code",
     "collapsed": false,
     "input": [
      "import numpy as np\n",
      "np.ndarray(shape=(8,8),buffer= np.fromstring(np.random.bytes(64), dtype=np.uint8), dtype=np.uint8)\n",
      "#A1 = np.ndarray(shape=(16, 2),buffer= np.fromstring(np.random.bytes(64), dtype=np.uint8), dtype=np.uint8)\n",
      "#a = A0+A1\n"
     ],
     "language": "python",
     "metadata": {},
     "outputs": [
      {
       "metadata": {},
       "output_type": "pyout",
       "prompt_number": 57,
       "text": [
        "array([[225,  56, 255,  77, 249,  46,  63, 185],\n",
        "       [133,  81, 242,  77,  92,  95, 134, 114],\n",
        "       [ 48, 205, 109,  43, 203, 133,  99, 187],\n",
        "       [110, 234,  76,  42, 110, 178,  81, 155],\n",
        "       [ 98,  54, 242,   2, 111, 113, 155,  84],\n",
        "       [ 92, 221,  89,  29, 103,  54, 171, 174],\n",
        "       [143, 108,  21, 233, 127, 235, 130, 226],\n",
        "       [122,  36, 157, 113,  66, 116,  46, 107]], dtype=uint8)"
       ]
      }
     ],
     "prompt_number": 57
    },
    {
     "cell_type": "code",
     "collapsed": false,
     "input": [
      "IPython.Cell.options_default.cm_config.lineNumbers = true;"
     ],
     "language": "python",
     "metadata": {},
     "outputs": [
      {
       "ename": "NameError",
       "evalue": "name 'true' is not defined",
       "output_type": "pyerr",
       "traceback": [
        "\u001b[1;31m---------------------------------------------------------------------------\u001b[0m\n\u001b[1;31mNameError\u001b[0m                                 Traceback (most recent call last)",
        "\u001b[1;32m<ipython-input-58-7027c05f7444>\u001b[0m in \u001b[0;36m<module>\u001b[1;34m()\u001b[0m\n\u001b[1;32m----> 1\u001b[1;33m \u001b[0mIPython\u001b[0m\u001b[1;33m.\u001b[0m\u001b[0mCell\u001b[0m\u001b[1;33m.\u001b[0m\u001b[0moptions_default\u001b[0m\u001b[1;33m.\u001b[0m\u001b[0mcm_config\u001b[0m\u001b[1;33m.\u001b[0m\u001b[0mlineNumbers\u001b[0m \u001b[1;33m=\u001b[0m \u001b[0mtrue\u001b[0m\u001b[1;33m;\u001b[0m\u001b[1;33m\u001b[0m\u001b[0m\n\u001b[0m",
        "\u001b[1;31mNameError\u001b[0m: name 'true' is not defined"
       ]
      }
     ],
     "prompt_number": 58
    },
    {
     "cell_type": "code",
     "collapsed": false,
     "input": [
      "16*8*4*4*4"
     ],
     "language": "python",
     "metadata": {},
     "outputs": [
      {
       "metadata": {},
       "output_type": "pyout",
       "prompt_number": 46,
       "text": [
        "8192"
       ]
      }
     ],
     "prompt_number": 46
    },
    {
     "cell_type": "code",
     "collapsed": false,
     "input": [],
     "language": "python",
     "metadata": {},
     "outputs": []
    }
   ],
   "metadata": {}
  }
 ]
}