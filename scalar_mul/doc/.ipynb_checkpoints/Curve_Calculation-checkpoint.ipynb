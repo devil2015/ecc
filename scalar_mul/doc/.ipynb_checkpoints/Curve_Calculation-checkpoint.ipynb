{
 "metadata": {
  "name": "",
  "signature": "sha256:283583ef22e283073a4d968f6c0b91ad6a3684882536815ea0ab4b41b8c3b8ac"
 },
 "nbformat": 3,
 "nbformat_minor": 0,
 "worksheets": [
  {
   "cells": [
    {
     "cell_type": "code",
     "collapsed": false,
     "input": [
      "import numpy as np\n",
      "a=np.array([0,1,2,0,0,0,0,0,1])\n",
      "print a"
     ],
     "language": "python",
     "metadata": {},
     "outputs": [
      {
       "output_type": "stream",
       "stream": "stdout",
       "text": [
        "[0 1 2 0 0 0 0 0 1]\n"
       ]
      }
     ],
     "prompt_number": 3
    },
    {
     "cell_type": "code",
     "collapsed": false,
     "input": [
      "np.nonzero(a)71 0a 02 09 01"
     ],
     "language": "python",
     "metadata": {},
     "outputs": [
      {
       "metadata": {},
       "output_type": "pyout",
       "prompt_number": 4,
       "text": [
        "(array([1, 2, 8]),)"
       ]
      }
     ],
     "prompt_number": 4
    },
    {
     "cell_type": "code",
     "collapsed": false,
     "input": [
      "import binascii\n",
      "import numpy as np\n",
      "import gmpy2\n",
      "\n",
      "\n",
      "def remove_0( A):\n",
      "        while A[0] == 0:\n",
      "            if len(A) == 1:\n",
      "                break\n",
      "            A = A[1:]\n",
      "        return A\n",
      "def str2nparray( A):\n",
      "        A = '0'*(8 - len(A)%8) + A\n",
      "        A = binascii.unhexlify(A)\n",
      "        A = np.fromstring(A[::-1], dtype='uint32') \n",
      "        return A\n",
      "Curve_Polynomial=np.array([],dtype='uint8')    \n",
      "Polynomial='020000000000000000000000000201'\n",
      "Polynomial=str2nparray(Polynomial)\n",
      "Curve_len=(len(Polynomail)-1)*32+gmpy2.bit_length(int(Polynomial[-1]))\n",
      "D=Polynomial.view('uint8')[::-1]\n",
      "D=remove_0(D)\n",
      "position=np.nonzero(D)\n",
      "print position\n",
      "position=position[0]\n",
      "frst_chunk=D[position[1]]\n",
      "frst_position=(position[1]/8)*8+7-(position[1]%8)\n",
      "\n",
      "if(len(position==3)):\n",
      "    secnd_chunk=D[position[2]]\n",
      "    secnd_position=(position[2]/8)*8+7-(position[2]%8)\n",
      "\n"
     ],
     "language": "python",
     "metadata": {},
     "outputs": [
      {
       "output_type": "stream",
       "stream": "stdout",
       "text": [
        "(array([ 0, 13, 14]),)\n"
       ]
      }
     ],
     "prompt_number": 26
    },
    {
     "cell_type": "code",
     "collapsed": false,
     "input": [
      "print secnd_position"
     ],
     "language": "python",
     "metadata": {},
     "outputs": [
      {
       "output_type": "stream",
       "stream": "stdout",
       "text": [
        "9\n"
       ]
      }
     ],
     "prompt_number": 27
    },
    {
     "cell_type": "code",
     "collapsed": false,
     "input": [],
     "language": "python",
     "metadata": {},
     "outputs": []
    }
   ],
   "metadata": {}
  }
 ]
}