{
 "metadata": {
  "name": "",
  "signature": "sha256:65bd7377ea8a1f8e6ed6b6249986ed5d16cc8d3416cffbc42662897bfbb98178"
 },
 "nbformat": 3,
 "nbformat_minor": 0,
 "worksheets": [
  {
   "cells": [
    {
     "cell_type": "code",
     "collapsed": false,
     "input": [
      "def shift(n):\n",
      "    print \"module\"+\" \"+\"mul_\"+str(n)+\"_module(\"\n",
      "    print \"    \"+\"input[\"+str(n-1)+\":0] mul_A,\"\n",
      "    print \"    \"+\"input[\"+str(n-1)+\":0] mul_B,\"\n",
      "    print \"    \"+\"output[\"+str(2*n-2)+\":0] mul_out\"\n",
      "    print \"    \"+\");\"\n",
      "    print \"    wire [\"+str(2*n-2)+\":0]\",\n",
      "    for i in range(0,n):\n",
      "        print \"d\"+str(i),\n",
      "        if(i!=(n-1)):\n",
      "            print \",\",\n",
      "    print \";\"\n",
      "    print\n",
      "    print \"    assign d0[\"+str(n-1)+\":0] = mul_A[\"+str(n-1)+\":0];\"\n",
      "    print \"    assign d0[\"+str(2*n-2)+\":\"+str(n)+\"]=\"+str(n-1)+\"'b0;\"\n",
      "    print \n",
      "    print \"    assign d1 = mul_B[0]?d0:\"+str(n-1)+\"'b0;\"\n",
      "    for i in range(1,(n-1)):\n",
      "        print \"    assign d\"+str(i+1)+\" = mul_B[\"+str(i)+\"]?d\"+str(i)+\"^d0<<\"+str(i)+\":d\"+str(i)+\";\"\n",
      "    print\n",
      "    print \"    assign mul_out = mul_B[\"+str(n-1)+\"]?d\"+str(n-1)+\"^d0<<\"+str(n-1)+\":d\"+str(n-1)+\";\"\n",
      "    print\n",
      "    print \"endmodule\"\n",
      "    "
     ],
     "language": "python",
     "metadata": {},
     "outputs": [],
     "prompt_number": 2
    },
    {
     "cell_type": "code",
     "collapsed": false,
     "input": [
      "shift(8)"
     ],
     "language": "python",
     "metadata": {},
     "outputs": [
      {
       "output_type": "stream",
       "stream": "stdout",
       "text": [
        "module mul_8_module(\n",
        "    input[7:0] mul_A,\n",
        "    input[7:0] mul_B,\n",
        "    output[14:0] mul_out\n",
        "    );\n",
        "    wire [14:0] d0 , d1 , d2 , d3 , d4 , d5 , d6 , d7 ;\n",
        "\n",
        "    assign d0[7:0] = mul_A[7:0];\n",
        "    assign d0[14:8]=7'b0;\n",
        "\n",
        "    assign d1 = mul_B[0]?d0:7'b0;\n",
        "    assign d2 = mul_B[1]?d1^d0<<1:d1;\n",
        "    assign d3 = mul_B[2]?d2^d0<<2:d2;\n",
        "    assign d4 = mul_B[3]?d3^d0<<3:d3;\n",
        "    assign d5 = mul_B[4]?d4^d0<<4:d4;\n",
        "    assign d6 = mul_B[5]?d5^d0<<5:d5;\n",
        "    assign d7 = mul_B[6]?d6^d0<<6:d6;\n",
        "\n",
        "    assign mul_out = mul_B[7]?d7^d0<<7:d7;\n",
        "\n",
        "endmodule\n"
       ]
      }
     ],
     "prompt_number": 3
    },
    {
     "cell_type": "code",
     "collapsed": false,
     "input": [
      "def Recursive(n):\n",
      "    print \"module mul_\"+str(n)+\"_module(\"\n",
      "    print \"    input [\"+str(n-1)+\":0] mul_A,\"\n",
      "    print \"    input [\"+str(n-1)+\":0] mul_B,\"\n",
      "    print \"    output [\"+str(2*n-2)+\":0]\" + \"mul_out\"\n",
      "    print \"    );\"\n",
      "    print\n",
      "    #print \"    wire[\"+str(n-2)+\":0] d0,d1,d3;\"\n",
      "    if (n%2 == 0):\n",
      "        print \"    wire[\"+str(n-2)+\":0] d0,d1,d3;\"\n",
      "        print \"    wire[\"+str(n-2)+\":0] d2;\"\n",
      "    else:\n",
      "        print \"    wire[\"+str(n-1)+\":0] d0,d1,d3;\"\n",
      "        print \"    wire[\"+str(n-3)+\":0] d2;\"\n",
      "\n",
      "    print\n",
      "    #code for a0b0\n",
      "    if (n%2 == 0):\n",
      "        print \"    mul_\"+str(n/2)+\"_module mul_0(\"\n",
      "        print \"        .mul_A(mul_A[\"+str(n/2-1)+\":0]),\"\n",
      "        print \"        .mul_B(mul_B[\"+str(n/2-1)+\":0]),\"\n",
      "        print \"        .mul_out(d0)\"\n",
      "        print \"        );\"\n",
      "    else:\n",
      "        print \"    mul_\"+str(n/2+1)+\"_module mul_0(\"\n",
      "        print \"        .mul_A(mul_A[\"+str(n/2)+\":0]),\"\n",
      "        print \"        .mul_B(mul_B[\"+str(n/2)+\":0]),\"\n",
      "        print \"        .mul_out(d0)\"\n",
      "        print \"        );\"\n",
      "    print\n",
      "\n",
      "    #code for a0^a1,b0^b1\n",
      "    if (n%2 == 0):\n",
      "        print \"    mul_\"+str(n/2)+\"_module mul_1(\"\n",
      "        print \"        .mul_A(mul_A[\"+str(n/2-1)+\":0]^mul_A[\"+str(n-1)+\":\"+str(n/2)+\"]),\"\n",
      "        print \"        .mul_B(mul_B[\"+str(n/2-1)+\":0]^mul_B[\"+str(n-1)+\":\"+str(n/2)+\"]),\"\n",
      "        print \"        .mul_out(d1)\"\n",
      "        print \"        );\"\n",
      "\n",
      "    else:\n",
      "        print \"    mul_\"+str(n/2+1)+\"_module mul_1(\"\n",
      "        print \"        .mul_A({mul_A[\"+str(n/2)+\"],mul_A[\"+str(n/2-1)+\":0]^mul_A[\"+str(n-1)+\":\"+str(n/2+1)+\"]}),\"\n",
      "        print \"        .mul_B({mul_B[\"+str(n/2)+\"],mul_B[\"+str(n/2-1)+\":0]^mul_B[\"+str(n-1)+\":\"+str(n/2+1)+\"]}),\"\n",
      "        print \"        .mul_out(d1)\"\n",
      "        print \"        );\"\n",
      "\n",
      "    print\n",
      "\n",
      "    #code for a1b1\n",
      "    if (n%2 == 0):\n",
      "        print \"    mul_\"+str(n/2)+\"_module mul_2(\"\n",
      "        print \"        .mul_A(mul_A[\"+str(n-1)+\":\"+str(n/2)+\"]),\"\n",
      "        print \"        .mul_B(mul_B[\"+str(n-1)+\":\"+str(n/2)+\"]),\"\n",
      "        print \"        .mul_out(d2)\"\n",
      "        print \"        );\"\n",
      "\n",
      "    else:\n",
      "        print \"    mul_\"+str(n/2)+\"_module mul_2(\"\n",
      "        print \"        .mul_A(mul_A[\"+str(n-1)+\":\"+str(n/2+1)+\"]),\"\n",
      "        print \"        .mul_B(mul_B[\"+str(n-1)+\":\"+str(n/2+1)+\"]),\"\n",
      "        print \"        .mul_out(d2)\"\n",
      "        print \"        );\"\n",
      "\n",
      "    print\n",
      "    print \"    assign d3 = d2 ^ d1 ^ d0;\" \n",
      "    print\n",
      "    if (n%2 == 0):\n",
      "        print \"    assign mul_out= {d2[\"+str(n-2)+\":\"+str(n/2-1)+\"],d2[\"+str(n/2-2)+\":0]^d3[\"+str(n-2)+\":\"+str(n/2)+\"],d3[\"+str(n/2-1)+\"],d0[\"+str(n-2)+\":\"+str(n/2)+\"]^d3[\"+str(n/2-2)+\":0],d0[\"+str(n/2-1)+\":0]};\"\n",
      "    else:\n",
      "        print \"    assign mul_out= {d2[\"+str(n-2)+\":\"+str(n/2)+\"],d2[\"+str(n/2-1)+\":0]^d3[\"+str(n-1)+\":\"+str(n/2+1)+\"],d3[\"+str(n/2)+\"],d0[\"+str(n-1)+\":\"+str(n/2+1)+\"]^d3[\"+str(n/2-1)+\":0],d0[\"+str(n/2)+\":0]};\"\n",
      "\n",
      "    print\n",
      "    print \"endmodule\"\n",
      "    return;"
     ],
     "language": "python",
     "metadata": {},
     "outputs": [],
     "prompt_number": 35
    },
    {
     "cell_type": "code",
     "collapsed": false,
     "input": [
      "def Karatsuba_array(n,a):\n",
      "    if(n%2==0):\n",
      "        a.append(n/2)\n",
      "    else:\n",
      "        a.append(n/2+1)\n",
      "        a.append(n/2)\n",
      "    if(n>16):\n",
      "        Karatsuba_array(n/2,a)\n",
      "    else:\n",
      "        return\n",
      "    "
     ],
     "language": "python",
     "metadata": {},
     "outputs": [],
     "prompt_number": 36
    },
    {
     "cell_type": "code",
     "collapsed": false,
     "input": [
      "n=input(\"ENTER NUMBER BITS FOR WHICH MULTIPLICATION MODULE HAS TO BE GENERATED:\")\n",
      "a=[n]\n",
      "b=Karatsuba_array(n,a)\n",
      "for i in range(len(a)):\n",
      "    for j in range(len(a)):\n",
      "        if(a[i]>a[j]):\n",
      "            t=a[i]\n",
      "            a[i]=a[j]\n",
      "            a[j]=t\n",
      "b=[0]\n",
      "k=0;\n",
      "for i in range(len(a)):\n",
      "    if(b[k]!=a[i]):\n",
      "        k=k+1\n",
      "        b.append(a[i])\n",
      "b = b[::-1]\n",
      "print b\n",
      "for i in b:\n",
      "    if(i):\n",
      "        if(i>8):\n",
      "            Recursive(i)\n",
      "        else:\n",
      "            shift(i)\n",
      "    "
     ],
     "language": "python",
     "metadata": {},
     "outputs": [
      {
       "name": "stdout",
       "output_type": "stream",
       "stream": "stdout",
       "text": [
        "ENTER NUMBER BITS FOR WHICH MULTIPLICATION MODULE HAS TO BE GENERATED:9\n"
       ]
      },
      {
       "output_type": "stream",
       "stream": "stdout",
       "text": [
        "[4, 5, 9, 0]\n",
        "module mul_4_module(\n",
        "    input[3:0] mul_A,\n",
        "    input[3:0] mul_B,\n",
        "    output[6:0] mul_out\n",
        "    );\n",
        "    wire [6:0] d0 , d1 , d2 , d3 ;\n",
        "\n",
        "    assign d0[3:0] = mul_A[3:0];\n",
        "    assign d0[6:4]=3'b0;\n",
        "\n",
        "    assign d1 = mul_B[0]?d0:3'b0;\n",
        "    assign d2 = mul_B[1]?d1^d0<<1:d1;\n",
        "    assign d3 = mul_B[2]?d2^d0<<2:d2;\n",
        "\n",
        "    assign mul_out = mul_B[3]?d3^d0<<3:d3;\n",
        "\n",
        "endmodule\n",
        "module mul_5_module(\n",
        "    input[4:0] mul_A,\n",
        "    input[4:0] mul_B,\n",
        "    output[8:0] mul_out\n",
        "    );\n",
        "    wire [8:0] d0 , d1 , d2 , d3 , d4 ;\n",
        "\n",
        "    assign d0[4:0] = mul_A[4:0];\n",
        "    assign d0[8:5]=4'b0;\n",
        "\n",
        "    assign d1 = mul_B[0]?d0:4'b0;\n",
        "    assign d2 = mul_B[1]?d1^d0<<1:d1;\n",
        "    assign d3 = mul_B[2]?d2^d0<<2:d2;\n",
        "    assign d4 = mul_B[3]?d3^d0<<3:d3;\n",
        "\n",
        "    assign mul_out = mul_B[4]?d4^d0<<4:d4;\n",
        "\n",
        "endmodule\n",
        "module mul_9_module(\n",
        "    input [8:0] mul_A,\n",
        "    input [8:0] mul_B,\n",
        "    output [16:0]mul_out\n",
        "    );\n",
        "\n",
        "    wire[8:0] d0,d1,d3;\n",
        "    wire[6:0] d2;\n",
        "\n",
        "    mul_5_module mul_0(\n",
        "        .mul_A(mul_A[4:0]),\n",
        "        .mul_B(mul_B[4:0]),\n",
        "        .mul_out(d0)\n",
        "        );\n",
        "\n",
        "    mul_5_module mul_1(\n",
        "        .mul_A({mul_A[4],mul_A[3:0]^mul_A[8:5]}),\n",
        "        .mul_B({mul_B[4],mul_B[3:0]^mul_B[8:5]}),\n",
        "        .mul_out(d1)\n",
        "        );\n",
        "\n",
        "    mul_4_module mul_2(\n",
        "        .mul_A(mul_A[8:5]),\n",
        "        .mul_B(mul_B[8:5]),\n",
        "        .mul_out(d2)\n",
        "        );\n",
        "\n",
        "    assign d3 = d2 ^ d1 ^ d0;\n",
        "\n",
        "    assign mul_out= {d2[7:4],d2[3:0]^d3[8:5],d3[4],d0[8:5]^d3[3:0],d0[4:0]};\n",
        "\n",
        "endmodule\n"
       ]
      }
     ],
     "prompt_number": 38
    },
    {
     "cell_type": "heading",
     "level": 5,
     "metadata": {},
     "source": [
      "array=[1,2,3]\n",
      "array.append(3)\n",
      "print array"
     ]
    },
    {
     "cell_type": "code",
     "collapsed": false,
     "input": [
      "if(95%2==1 and 95>15):\n",
      "    print \"hello\""
     ],
     "language": "python",
     "metadata": {},
     "outputs": [
      {
       "output_type": "stream",
       "stream": "stdout",
       "text": [
        "hello\n"
       ]
      }
     ],
     "prompt_number": 29
    },
    {
     "cell_type": "code",
     "collapsed": false,
     "input": [
      "from sets import Set\n",
      "array=[1,2,3,4,5,6,6,7,6,5]\n",
      "b=Set(array)\n",
      "print b"
     ],
     "language": "python",
     "metadata": {},
     "outputs": [
      {
       "output_type": "stream",
       "stream": "stdout",
       "text": [
        "Set([1, 2, 3, 4, 5, 6, 7])\n"
       ]
      }
     ],
     "prompt_number": 17
    },
    {
     "cell_type": "code",
     "collapsed": false,
     "input": [
      "range(10,-1,-1)"
     ],
     "language": "python",
     "metadata": {},
     "outputs": [
      {
       "metadata": {},
       "output_type": "pyout",
       "prompt_number": 33,
       "text": [
        "[10, 9, 8, 7, 6, 5, 4, 3, 2, 1, 0]"
       ]
      }
     ],
     "prompt_number": 33
    },
    {
     "cell_type": "code",
     "collapsed": false,
     "input": [
      "n = input()\n",
      "m = input()\n",
      "s = 0\n",
      "for i in range (n):\n",
      "    s = s + (3**i)*((4*m)/(2**i)-4)\n",
      "print s"
     ],
     "language": "python",
     "metadata": {},
     "outputs": [
      {
       "name": "stdout",
       "output_type": "stream",
       "stream": "stdout",
       "text": [
        "4\n"
       ]
      },
      {
       "name": "stdout",
       "output_type": "stream",
       "stream": "stdout",
       "text": [
        "16\n"
       ]
      },
      {
       "output_type": "stream",
       "stream": "stdout",
       "text": [
        "360\n"
       ]
      }
     ],
     "prompt_number": 4
    },
    {
     "cell_type": "code",
     "collapsed": false,
     "input": [
      "360+81\n"
     ],
     "language": "python",
     "metadata": {},
     "outputs": [
      {
       "metadata": {},
       "output_type": "pyout",
       "prompt_number": 5,
       "text": [
        "441"
       ]
      }
     ],
     "prompt_number": 5
    },
    {
     "cell_type": "code",
     "collapsed": false,
     "input": [
      "225+256"
     ],
     "language": "python",
     "metadata": {},
     "outputs": [
      {
       "metadata": {},
       "output_type": "pyout",
       "prompt_number": 6,
       "text": [
        "481"
       ]
      }
     ],
     "prompt_number": 6
    },
    {
     "cell_type": "code",
     "collapsed": false,
     "input": [],
     "language": "python",
     "metadata": {},
     "outputs": []
    }
   ],
   "metadata": {}
  }
 ]
}