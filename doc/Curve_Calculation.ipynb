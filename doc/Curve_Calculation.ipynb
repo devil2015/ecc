{
 "metadata": {
  "name": "",
  "signature": "sha256:f9872c75f35b8fd83f22b3b6252f82f0c5c80fc5e9d9b4c36d78897f40ba7cf1"
 },
 "nbformat": 3,
 "nbformat_minor": 0,
 "worksheets": [
  {
   "cells": [
    {
     "cell_type": "code",
     "collapsed": false,
     "input": [
      "import numpy as np\n",
      "a=np.array([0,1,2,0,0,0,0,0,1])\n",
      "print a"
     ],
     "language": "python",
     "metadata": {},
     "outputs": [
      {
       "output_type": "stream",
       "stream": "stdout",
       "text": [
        "[0 1 2 0 0 0 0 0 1]\n"
       ]
      }
     ],
     "prompt_number": 5
    },
    {
     "cell_type": "code",
     "collapsed": false,
     "input": [
      "import binascii\n",
      "import gmpy2\n",
      "import random\n",
      "def str2nparray( A):\n",
      "        A = '0'*(8 - len(A)%8) + A\n",
      "        A = binascii.unhexlify(A)\n",
      "        A = np.fromstring(A[::-1], dtype='uint32') \n",
      "        return A\n",
      "Polynomial1 = '020000000000000000000000000201'\n",
      "Polynomial2 = Polynomial1\n",
      "Polynomial1=str2nparray(Polynomial1)\n",
      "Curve_len=(len(Polynomial1)-1)*32+gmpy2.bit_length(int(Polynomial1[-1]))-1\n",
      "print Curve_len\n",
      "X='9d73616f35f4ab1407d73562c10f'\n",
      "Y='a52830277958ee84d1315ed31886'\n",
      "a='3088250ca6e7c7fe649ce85820f7'\n",
      "k=random.randint(1,Curve_len)\n",
      "print k"
     ],
     "language": "python",
     "metadata": {},
     "outputs": [
      {
       "output_type": "stream",
       "stream": "stdout",
       "text": [
        "113\n",
        "47\n"
       ]
      }
     ],
     "prompt_number": 6
    },
    {
     "cell_type": "code",
     "collapsed": false,
     "input": [
      "import binascii\n",
      "import numpy as np\n",
      "import gmpy2\n",
      "\n",
      "np.set_printoptions(formatter={'int':hex})\n",
      "\n",
      "def remove_0( A):\n",
      "        while A[0] == 0:\n",
      "            if len(A) == 1:\n",
      "                break\n",
      "            A = A[1:]\n",
      "        return A\n",
      "def str2nparray( A):\n",
      "        A = '0'*(8 - len(A)%8) + A\n",
      "        A = binascii.unhexlify(A)\n",
      "        A = np.fromstring(A[::-1], dtype='uint32') \n",
      "        return A\n",
      "\n",
      "    \n",
      "def nparray2str2( A):\n",
      "        c = ''\n",
      "        d = A.view('uint8')\n",
      "        for i in d:\n",
      "            c+=binascii.hexlify(i)\n",
      "        return c \n",
      "Polynomial='20000000000000000000000000000000000000004000000000000000001'\n",
      "def Curve_Calculation(Polynomial):    \n",
      "    Curve_Polynomial=np.array([],dtype='uint8')    \n",
      "    Polynomial=str2nparray(Polynomial)\n",
      "    Curve_len=(len(Polynomial)-1)*32+gmpy2.bit_length(int(Polynomial[-1]))-1\n",
      "    D=Polynomial.view('uint8')[::-1]\n",
      "    D=remove_0(D)\n",
      "    position=np.nonzero(D)\n",
      "    print position\n",
      "    position=position[0]\n",
      "    print len(position)\n",
      "    secnd_chunk=0x00\n",
      "    secnd_position=0x00\n",
      "    frst_chunk=D[position[1]]\n",
      "    frst_position=(position[1]/8)*8+7-(position[1]%8)\n",
      "\n",
      "    if(len(position)==3):\n",
      "        secnd_chunk=D[position[2]]\n",
      "        secnd_position=(position[2]/8)*8+7-(position[2]%8)\n",
      "    Curve_Polynomial=np.array([Curve_len,frst_position,frst_chunk,secnd_position,secnd_chunk],dtype='uint8')\n",
      "    Curve_Polynomial=nparray2str2(Curve_Polynomial)\n",
      "    print Curve_Polynomial\n",
      "    return Curve_Polynomial"
     ],
     "language": "python",
     "metadata": {},
     "outputs": [],
     "prompt_number": 7
    },
    {
     "cell_type": "code",
     "collapsed": false,
     "input": [
      "Polynomial = '020000000000000000000000000201'\n",
      "Curve_Calculation(Polynomial)"
     ],
     "language": "python",
     "metadata": {},
     "outputs": [
      {
       "output_type": "stream",
       "stream": "stdout",
       "text": [
        "(array([0x0L, 0xdL, 0xeL]),)\n",
        "3\n",
        "710a020901\n"
       ]
      },
      {
       "metadata": {},
       "output_type": "pyout",
       "prompt_number": 8,
       "text": [
        "'710a020901'"
       ]
      }
     ],
     "prompt_number": 8
    },
    {
     "cell_type": "code",
     "collapsed": false,
     "input": [
      "import asyncio\n",
      "\n",
      "@asyncio.coroutine\n",
      "def factorial(name, number):\n",
      "    f = 1\n",
      "    for i in range(2, number+1):\n",
      "        print(\"Task %s: Compute factorial(%s)...\" % (name, i))\n",
      "        f *= i\n",
      "    print(\"Task %s: factorial(%s) = %s\" % (name, number, f))\n",
      "\n",
      "loop = asyncio.get_event_loop()\n",
      "tasks = [\n",
      "    asyncio.async(factorial(\"A\", 2)),\n",
      "    asyncio.async(factorial(\"B\", 3)),\n",
      "    asyncio.async(factorial(\"C\", 4))]\n",
      "loop.run_until_complete(asyncio.wait(tasks))\n",
      "loop.close()"
     ],
     "language": "python",
     "metadata": {},
     "outputs": [
      {
       "ename": "ImportError",
       "evalue": "No module named asyncio",
       "output_type": "pyerr",
       "traceback": [
        "\u001b[1;31m---------------------------------------------------------------------------\u001b[0m\n\u001b[1;31mImportError\u001b[0m                               Traceback (most recent call last)",
        "\u001b[1;32m<ipython-input-23-351bb234bc2c>\u001b[0m in \u001b[0;36m<module>\u001b[1;34m()\u001b[0m\n\u001b[1;32m----> 1\u001b[1;33m \u001b[1;32mimport\u001b[0m \u001b[0masyncio\u001b[0m\u001b[1;33m\u001b[0m\u001b[0m\n\u001b[0m\u001b[0;32m      2\u001b[0m \u001b[1;33m\u001b[0m\u001b[0m\n\u001b[0;32m      3\u001b[0m \u001b[1;33m@\u001b[0m\u001b[0masyncio\u001b[0m\u001b[1;33m.\u001b[0m\u001b[0mcoroutine\u001b[0m\u001b[1;33m\u001b[0m\u001b[0m\n\u001b[0;32m      4\u001b[0m \u001b[1;32mdef\u001b[0m \u001b[0mfactorial\u001b[0m\u001b[1;33m(\u001b[0m\u001b[0mname\u001b[0m\u001b[1;33m,\u001b[0m \u001b[0mnumber\u001b[0m\u001b[1;33m)\u001b[0m\u001b[1;33m:\u001b[0m\u001b[1;33m\u001b[0m\u001b[0m\n\u001b[0;32m      5\u001b[0m     \u001b[0mf\u001b[0m \u001b[1;33m=\u001b[0m \u001b[1;36m1\u001b[0m\u001b[1;33m\u001b[0m\u001b[0m\n",
        "\u001b[1;31mImportError\u001b[0m: No module named asyncio"
       ]
      }
     ],
     "prompt_number": 23
    },
    {
     "cell_type": "code",
     "collapsed": false,
     "input": [
      "hex(256)"
     ],
     "language": "python",
     "metadata": {},
     "outputs": [
      {
       "metadata": {},
       "output_type": "pyout",
       "prompt_number": 18,
       "text": [
        "'0x100'"
       ]
      }
     ],
     "prompt_number": 18
    },
    {
     "cell_type": "code",
     "collapsed": false,
     "input": [],
     "language": "python",
     "metadata": {},
     "outputs": []
    }
   ],
   "metadata": {}
  }
 ]
}